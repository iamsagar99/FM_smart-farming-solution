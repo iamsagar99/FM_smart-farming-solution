{
 "cells": [
  {
   "cell_type": "code",
   "execution_count": 4,
   "id": "1cff39c1-9c3a-4481-9b7f-1914c9b65cc7",
   "metadata": {},
   "outputs": [],
   "source": [
    "import pandas as pd\n",
    "import numpy as np\n",
    "import matplotlib.pyplot as plt\n",
    "import seaborn as sns\n",
    "import os\n",
    "from io import StringIO"
   ]
  },
  {
   "cell_type": "code",
   "execution_count": 2,
   "id": "a15ca52f-ac42-4726-aea0-78c423792226",
   "metadata": {},
   "outputs": [
    {
     "name": "stdout",
     "output_type": "stream",
     "text": [
      "Requirement already satisfied: openpyxl in c:\\users\\jarvis\\anaconda3\\envs\\gpuenv\\lib\\site-packages (3.1.3)\n",
      "Requirement already satisfied: et-xmlfile in c:\\users\\jarvis\\anaconda3\\envs\\gpuenv\\lib\\site-packages (from openpyxl) (1.1.0)\n",
      "Note: you may need to restart the kernel to use updated packages.\n"
     ]
    }
   ],
   "source": [
    "%pip install openpyxl"
   ]
  },
  {
   "cell_type": "code",
   "execution_count": 5,
   "id": "8239cb97-eef1-49e5-9339-053739da0c26",
   "metadata": {},
   "outputs": [],
   "source": [
    "df = pd.read_excel(r\"D:\\AI Fellowship Fusemachine\\FM_smart-farming-solution\\data\\bronson_2018\\F113_2018_MegaTable.xlsx\", sheet_name='MegaTable')"
   ]
  },
  {
   "cell_type": "code",
   "execution_count": 6,
   "id": "db6fbdec-e988-42e7-b4b1-bcc462d188f1",
   "metadata": {},
   "outputs": [
    {
     "data": {
      "text/plain": [
       "(62, 963)"
      ]
     },
     "execution_count": 6,
     "metadata": {},
     "output_type": "execute_result"
    }
   ],
   "source": [
    "df.shape"
   ]
  },
  {
   "cell_type": "code",
   "execution_count": 7,
   "id": "61f86d8f-bcd2-4a68-854d-64aef20775cb",
   "metadata": {},
   "outputs": [
    {
     "name": "stdout",
     "output_type": "stream",
     "text": [
      "<class 'pandas.core.frame.DataFrame'>\n",
      "RangeIndex: 62 entries, 0 to 61\n",
      "Columns: 963 entries, GPSpoint to MTCI_R_176\n",
      "dtypes: float64(958), object(5)\n",
      "memory usage: 466.6+ KB\n"
     ]
    }
   ],
   "source": [
    "df.info()"
   ]
  },
  {
   "cell_type": "code",
   "execution_count": 60,
   "id": "380d7700-634b-4d9e-9af4-c561c748b115",
   "metadata": {},
   "outputs": [
    {
     "data": {
      "text/plain": [
       "Rep              10\n",
       "Plot             10\n",
       "Subplot          10\n",
       "GPS_KB_13        10\n",
       "GPS_KB_14        10\n",
       "                 ..\n",
       "Ht_bed_cm_111    10\n",
       "Plt_ht_cm_111    10\n",
       "Avg_30o          10\n",
       "Avg_nadir        10\n",
       "Avg_nadir_air    10\n",
       "Length: 578, dtype: int64"
      ]
     },
     "execution_count": 60,
     "metadata": {},
     "output_type": "execute_result"
    }
   ],
   "source": [
    "df.isna().sum()"
   ]
  },
  {
   "cell_type": "code",
   "execution_count": 39,
   "id": "6184bcda-7934-4ca4-ac2b-b323ffdabcfb",
   "metadata": {},
   "outputs": [
    {
     "data": {
      "text/plain": [
       "[]"
      ]
     },
     "execution_count": 39,
     "metadata": {},
     "output_type": "execute_result"
    }
   ],
   "source": [
    "a = ['Hello', 'Hero', 'Zero', 'Nice']\n",
    "ref = [i for i in a if i.startswith('er')]\n",
    "ref"
   ]
  },
  {
   "cell_type": "code",
   "execution_count": null,
   "id": "f0246e25-7b15-4081-871c-f5a159e33053",
   "metadata": {},
   "outputs": [],
   "source": []
  },
  {
   "cell_type": "code",
   "execution_count": 10,
   "id": "025e1496-026c-44d6-86c3-d695c38e9fc6",
   "metadata": {},
   "outputs": [],
   "source": [
    "def get_columns_that_startswith(col_starts_list):\n",
    "    required_cols = []\n",
    "    for str in col_starts_list:\n",
    "        required_cols += [i for i in df.columns if i.startswith(str)]\n",
    "    return required_cols"
   ]
  },
  {
   "cell_type": "markdown",
   "id": "525c3ff9-6968-4acb-82fe-b995f981d817",
   "metadata": {},
   "source": [
    "## Saving nitrogen data"
   ]
  },
  {
   "cell_type": "code",
   "execution_count": 23,
   "id": "ab91f430-f1d2-48e3-b546-57d8f80b4d00",
   "metadata": {},
   "outputs": [],
   "source": [
    "required_cols = get_columns_that_startswith(['GPS', 'Plot_no', 'N_Tr','Rep' ,'Treat_n','Irr_treat', 'Treat_no','N_Rate'])"
   ]
  },
  {
   "cell_type": "code",
   "execution_count": 24,
   "id": "4c362298-b884-4afa-a135-3fad61f34f3c",
   "metadata": {},
   "outputs": [
    {
     "data": {
      "text/plain": [
       "11"
      ]
     },
     "execution_count": 24,
     "metadata": {},
     "output_type": "execute_result"
    }
   ],
   "source": [
    "len(required_cols)"
   ]
  },
  {
   "cell_type": "code",
   "execution_count": 40,
   "id": "fc890238-ffac-482b-ab32-95ae84b00f6f",
   "metadata": {},
   "outputs": [
    {
     "data": {
      "text/plain": [
       "['GPSpoint',\n",
       " 'Plot_no',\n",
       " 'N_Treat',\n",
       " 'Rep',\n",
       " 'Treat_no',\n",
       " 'Irr_treat',\n",
       " 'Treat_no',\n",
       " 'N_Rateha_2017',\n",
       " 'N_Rateac_2017',\n",
       " 'N_Rateha',\n",
       " 'N_Rateac']"
      ]
     },
     "execution_count": 40,
     "metadata": {},
     "output_type": "execute_result"
    }
   ],
   "source": [
    "required_cols"
   ]
  },
  {
   "cell_type": "code",
   "execution_count": 42,
   "id": "8484339f-5e3e-4823-aae9-80484930d2ac",
   "metadata": {},
   "outputs": [
    {
     "data": {
      "text/plain": [
       "GPSpoint         2\n",
       "Plot_no          2\n",
       "N_Treat          2\n",
       "Rep              2\n",
       "Treat_no         2\n",
       "Irr_treat        2\n",
       "Treat_no         2\n",
       "N_Rateha_2017    2\n",
       "N_Rateac_2017    2\n",
       "N_Rateha         2\n",
       "N_Rateac         2\n",
       "dtype: int64"
      ]
     },
     "execution_count": 42,
     "metadata": {},
     "output_type": "execute_result"
    }
   ],
   "source": [
    "df_N = df[required_cols]\n",
    "df_N.isnull().sum()"
   ]
  },
  {
   "cell_type": "code",
   "execution_count": 43,
   "id": "156866e9-9ac1-4c02-a75f-7975aafbc347",
   "metadata": {},
   "outputs": [
    {
     "data": {
      "text/plain": [
       "<Axes: >"
      ]
     },
     "execution_count": 43,
     "metadata": {},
     "output_type": "execute_result"
    },
    {
     "data": {
      "image/png": "[encoded data removed]",
      "text/plain": [
       "<Figure size 640x480 with 2 Axes>"
      ]
     },
     "metadata": {},
     "output_type": "display_data"
    }
   ],
   "source": [
    "sns.heatmap(df_N.isna())"
   ]
  },
  {
   "cell_type": "code",
   "execution_count": 48,
   "id": "320856ec-ef7a-45e9-933f-42c733cbc35f",
   "metadata": {},
   "outputs": [
    {
     "data": {
      "text/plain": [
       "(62, 11)"
      ]
     },
     "execution_count": 48,
     "metadata": {},
     "output_type": "execute_result"
    }
   ],
   "source": [
    "df_N.shape"
   ]
  },
  {
   "cell_type": "code",
   "execution_count": 53,
   "id": "a7a95828-dbd6-4192-8d4e-9d4d587e1118",
   "metadata": {},
   "outputs": [
    {
     "name": "stderr",
     "output_type": "stream",
     "text": [
      "C:\\Users\\JARVIS\\AppData\\Local\\Temp\\ipykernel_22392\\2189957070.py:1: SettingWithCopyWarning: \n",
      "A value is trying to be set on a copy of a slice from a DataFrame\n",
      "\n",
      "See the caveats in the documentation: https://pandas.pydata.org/pandas-docs/stable/user_guide/indexing.html#returning-a-view-versus-a-copy\n",
      "  df_N.dropna(inplace=True)\n"
     ]
    }
   ],
   "source": [
    "df_N.dropna(inplace=True)"
   ]
  },
  {
   "cell_type": "code",
   "execution_count": 54,
   "id": "4144ccce-ea1e-4c47-9f67-51b0c9a34ba0",
   "metadata": {},
   "outputs": [
    {
     "data": {
      "text/plain": [
       "(60, 11)"
      ]
     },
     "execution_count": 54,
     "metadata": {},
     "output_type": "execute_result"
    }
   ],
   "source": [
    "df_N.shape"
   ]
  },
  {
   "cell_type": "code",
   "execution_count": 55,
   "id": "6ed7867a-b001-436e-890d-583d47d982af",
   "metadata": {},
   "outputs": [
    {
     "data": {
      "text/plain": [
       "<Axes: >"
      ]
     },
     "execution_count": 55,
     "metadata": {},
     "output_type": "execute_result"
    },
    {
     "data": {
      "image/png": "[encoded data removed]",
      "text/plain": [
       "<Figure size 640x480 with 2 Axes>"
      ]
     },
     "metadata": {},
     "output_type": "display_data"
    }
   ],
   "source": [
    "sns.heatmap(df_N.isna())"
   ]
  },
  {
   "cell_type": "code",
   "execution_count": 57,
   "id": "6184d91e-64fe-46b8-91c2-faf9dba899ca",
   "metadata": {},
   "outputs": [],
   "source": [
    "df_N.to_csv(\"./refined_data/nitrogen_rate.csv\")"
   ]
  },
  {
   "cell_type": "markdown",
   "id": "48273843-41b4-4494-956c-486e1a0a3b6a",
   "metadata": {},
   "source": [
    "## Saving the soil data"
   ]
  },
  {
   "cell_type": "code",
   "execution_count": 68,
   "id": "ce05f9cb-d57c-4eb4-b258-50c77771ccb0",
   "metadata": {},
   "outputs": [],
   "source": [
    "required_cols = get_columns_that_startswith(['GPS', 'Plot_no',\"Rep\", 'Silt', 'Sand', 'Clay','Potassium','Sulfate','Zinc','Iron','Manganese', 'Sodium','Boron', 'NO3','NH4_','Nov_NO3'])"
   ]
  },
  {
   "cell_type": "code",
   "execution_count": 69,
   "id": "e07baa1d-c3a0-49a4-b565-912933c3d739",
   "metadata": {},
   "outputs": [
    {
     "data": {
      "text/plain": [
       "['GPSpoint',\n",
       " 'Plot_no',\n",
       " 'Rep',\n",
       " 'Silt_A',\n",
       " 'Silt_B',\n",
       " 'Silt_C',\n",
       " 'Silt_D',\n",
       " 'Sand_A',\n",
       " 'Sand_B',\n",
       " 'Sand_C',\n",
       " 'Sand_D',\n",
       " 'Clay_A',\n",
       " 'Clay_B',\n",
       " 'Clay_C',\n",
       " 'Clay_D',\n",
       " 'Potassium ppm K',\n",
       " 'Sulfate-S ppm S',\n",
       " 'Zinc ppm Zn',\n",
       " 'Iron ppm Fe',\n",
       " 'Manganese ppm Mn',\n",
       " 'Sodium ppm Na',\n",
       " 'Boron ppm B',\n",
       " 'NO3ppm_0_12',\n",
       " 'NO3ppm_12_24',\n",
       " 'NO3ppm_24_36',\n",
       " 'NO3ppm_36_48',\n",
       " 'NO3ppm_48_60',\n",
       " 'NO3ppm_60_72',\n",
       " 'NO3ppm_72_84',\n",
       " 'NO3_A_Wards',\n",
       " 'NO3_B_Wards',\n",
       " 'NO3_C_Wards',\n",
       " 'NO3_D_Wards',\n",
       " 'NO3_0_24',\n",
       " 'NO3_0_36',\n",
       " 'NO3_0_48',\n",
       " 'NO3_0_60',\n",
       " 'NO3_0_72',\n",
       " 'NO3_36_48',\n",
       " 'NO3_48_60',\n",
       " 'NO3_60_72',\n",
       " 'NO3_36_72',\n",
       " 'NO3_60_72.1',\n",
       " 'NO3_36_72.1',\n",
       " 'NH4_0_24',\n",
       " 'NH4_0_36',\n",
       " 'NH4_0_48',\n",
       " 'NH4_36_48',\n",
       " 'NH4_48_60',\n",
       " 'NH4_60_72',\n",
       " 'NH4_36_72',\n",
       " 'Nov_NO3ppm_0_12',\n",
       " 'Nov_NO3ppm_12_24',\n",
       " 'Nov_NO3ppm_24_36',\n",
       " 'Nov_NO3ppm_36_48',\n",
       " 'Nov_NO3ppm_48_60',\n",
       " 'Nov_NO3ppm_60_72',\n",
       " 'Nov_NO3ppm_72_84',\n",
       " 'Nov_NO3_0_24',\n",
       " 'Nov_NO3_0_36',\n",
       " 'Nov_NO3_0_48',\n",
       " 'Nov_NO3_0_60',\n",
       " 'Nov_NO3_0_72',\n",
       " 'Nov_NO3_36_48',\n",
       " 'Nov_NO3_48_60',\n",
       " 'Nov_NO3_60_72',\n",
       " 'Nov_NO3_36_72',\n",
       " 'Nov_NO3_14N_ha_0_12',\n",
       " 'Nov_NO3_14N_ha_12_24',\n",
       " 'Nov_NO3_14N_ha_24_36',\n",
       " 'Nov_NO3_14N_ha_36_48',\n",
       " 'Nov_NO3_14N_ha_48_60',\n",
       " 'Nov_NO3_14N_ha_60_72',\n",
       " 'Nov_NO3_14N_ha_72_84',\n",
       " 'Nov_NO3_Per_rec_0_12',\n",
       " 'Nov_NO3_Per_rec_12_24',\n",
       " 'Nov_NO3_Per_rec_24_36',\n",
       " 'Nov_NO3_Per_rec_36_48',\n",
       " 'Nov_NO3_Per_rec_48_60',\n",
       " 'Nov_NO3_Per_rec_60_72']"
      ]
     },
     "execution_count": 69,
     "metadata": {},
     "output_type": "execute_result"
    }
   ],
   "source": [
    "required_cols"
   ]
  },
  {
   "cell_type": "code",
   "execution_count": 70,
   "id": "ad189ce4-a994-4f44-b117-d0f6eb905aa2",
   "metadata": {},
   "outputs": [
    {
     "data": {
      "text/plain": [
       "80"
      ]
     },
     "execution_count": 70,
     "metadata": {},
     "output_type": "execute_result"
    }
   ],
   "source": [
    "len(required_cols)"
   ]
  },
  {
   "cell_type": "code",
   "execution_count": 71,
   "id": "39665309-ae3f-4274-bdc3-44114a427011",
   "metadata": {},
   "outputs": [],
   "source": [
    "df_soil_comp = df[required_cols]"
   ]
  },
  {
   "cell_type": "code",
   "execution_count": 73,
   "id": "c28e7810-061b-405e-8d61-4acdfcd13260",
   "metadata": {},
   "outputs": [
    {
     "data": {
      "text/plain": [
       "(62, 80)"
      ]
     },
     "execution_count": 73,
     "metadata": {},
     "output_type": "execute_result"
    }
   ],
   "source": [
    "df_soil_comp.shape"
   ]
  },
  {
   "cell_type": "code",
   "execution_count": 75,
   "id": "d7dfa6ef-0b80-4433-9345-9a9c62b89614",
   "metadata": {},
   "outputs": [
    {
     "data": {
      "text/plain": [
       "GPSpoint                 2\n",
       "Plot_no                  2\n",
       "Rep                      2\n",
       "Silt_A                   2\n",
       "Silt_B                   2\n",
       "                        ..\n",
       "Nov_NO3_Per_rec_12_24    2\n",
       "Nov_NO3_Per_rec_24_36    2\n",
       "Nov_NO3_Per_rec_36_48    2\n",
       "Nov_NO3_Per_rec_48_60    2\n",
       "Nov_NO3_Per_rec_60_72    2\n",
       "Length: 80, dtype: int64"
      ]
     },
     "execution_count": 75,
     "metadata": {},
     "output_type": "execute_result"
    }
   ],
   "source": [
    "df_soil_comp.isna().sum()"
   ]
  },
  {
   "cell_type": "code",
   "execution_count": 76,
   "id": "3d47c534-8279-409e-a70e-e1e0852f9900",
   "metadata": {},
   "outputs": [
    {
     "name": "stderr",
     "output_type": "stream",
     "text": [
      "C:\\Users\\JARVIS\\AppData\\Local\\Temp\\ipykernel_22392\\2630906913.py:1: SettingWithCopyWarning: \n",
      "A value is trying to be set on a copy of a slice from a DataFrame\n",
      "\n",
      "See the caveats in the documentation: https://pandas.pydata.org/pandas-docs/stable/user_guide/indexing.html#returning-a-view-versus-a-copy\n",
      "  df_soil_comp.dropna(inplace=True)\n"
     ]
    }
   ],
   "source": [
    "df_soil_comp.dropna(inplace=True)"
   ]
  },
  {
   "cell_type": "code",
   "execution_count": 78,
   "id": "16a07e74-c732-4b25-a85f-b56198caa2d9",
   "metadata": {},
   "outputs": [
    {
     "name": "stderr",
     "output_type": "stream",
     "text": [
      "C:\\Users\\JARVIS\\AppData\\Local\\Temp\\ipykernel_22392\\427974167.py:1: SettingWithCopyWarning: \n",
      "A value is trying to be set on a copy of a slice from a DataFrame\n",
      "\n",
      "See the caveats in the documentation: https://pandas.pydata.org/pandas-docs/stable/user_guide/indexing.html#returning-a-view-versus-a-copy\n",
      "  df_soil_comp.replace(-9999, np.nan, inplace=True)\n"
     ]
    }
   ],
   "source": [
    "df_soil_comp.replace(-9999, np.nan, inplace=True)"
   ]
  },
  {
   "cell_type": "code",
   "execution_count": 80,
   "id": "5e7b6571-70d0-4ad9-ba49-0af10a46635d",
   "metadata": {},
   "outputs": [
    {
     "data": {
      "text/plain": [
       "GPSpoint                  0\n",
       "Plot_no                   0\n",
       "Rep                       0\n",
       "Silt_A                    0\n",
       "Silt_B                    0\n",
       "                         ..\n",
       "Nov_NO3_Per_rec_12_24    57\n",
       "Nov_NO3_Per_rec_24_36    57\n",
       "Nov_NO3_Per_rec_36_48    57\n",
       "Nov_NO3_Per_rec_48_60    57\n",
       "Nov_NO3_Per_rec_60_72    57\n",
       "Length: 80, dtype: int64"
      ]
     },
     "execution_count": 80,
     "metadata": {},
     "output_type": "execute_result"
    }
   ],
   "source": [
    "df_soil_comp.isna().sum()"
   ]
  },
  {
   "cell_type": "code",
   "execution_count": 82,
   "id": "2533b711-c2f5-4312-a928-04ce75d96a04",
   "metadata": {},
   "outputs": [
    {
     "name": "stderr",
     "output_type": "stream",
     "text": [
      "C:\\Users\\JARVIS\\AppData\\Local\\Temp\\ipykernel_22392\\2748259084.py:1: SettingWithCopyWarning: \n",
      "A value is trying to be set on a copy of a slice from a DataFrame\n",
      "\n",
      "See the caveats in the documentation: https://pandas.pydata.org/pandas-docs/stable/user_guide/indexing.html#returning-a-view-versus-a-copy\n",
      "  df_soil_comp.dropna(axis=1, thresh=30, inplace=True)\n"
     ]
    }
   ],
   "source": [
    "df_soil_comp.dropna(axis=1, thresh=30, inplace=True)"
   ]
  },
  {
   "cell_type": "code",
   "execution_count": 84,
   "id": "2059cdc3-1427-4714-91c6-0734b49d6824",
   "metadata": {},
   "outputs": [
    {
     "data": {
      "text/plain": [
       "(60, 60)"
      ]
     },
     "execution_count": 84,
     "metadata": {},
     "output_type": "execute_result"
    }
   ],
   "source": [
    "df_soil_comp.shape"
   ]
  },
  {
   "cell_type": "code",
   "execution_count": 85,
   "id": "271f1655-4a67-4415-b865-bd1876c63e16",
   "metadata": {},
   "outputs": [],
   "source": [
    "df_soil_comp.to_csv('./refined_data/soil_data_comp.csv')"
   ]
  },
  {
   "cell_type": "markdown",
   "id": "f172ceda-1600-4474-a462-89954385f801",
   "metadata": {},
   "source": [
    "## Saving Plant Phenotype data"
   ]
  },
  {
   "cell_type": "code",
   "execution_count": 87,
   "id": "6412e3cb-45d4-436c-b6ba-325470f01c4a",
   "metadata": {},
   "outputs": [],
   "source": [
    "required_cols = get_columns_that_startswith(['GPS', 'Plot_no','Rep', 'Plant','Petiole', 'Leaf','Stem'])"
   ]
  },
  {
   "cell_type": "code",
   "execution_count": 88,
   "id": "bad27543-f967-4276-8711-2deac0850230",
   "metadata": {},
   "outputs": [],
   "source": [
    "df_plant = df[required_cols]"
   ]
  },
  {
   "cell_type": "code",
   "execution_count": 89,
   "id": "6eeed4d8-84a9-4605-ac9a-7f94f33102a6",
   "metadata": {},
   "outputs": [
    {
     "data": {
      "text/plain": [
       "(62, 44)"
      ]
     },
     "execution_count": 89,
     "metadata": {},
     "output_type": "execute_result"
    }
   ],
   "source": [
    "df_plant.shape"
   ]
  },
  {
   "cell_type": "code",
   "execution_count": 96,
   "id": "02226314-3f04-4f3f-8746-6000ebba5168",
   "metadata": {},
   "outputs": [
    {
     "name": "stderr",
     "output_type": "stream",
     "text": [
      "C:\\Users\\JARVIS\\AppData\\Local\\Temp\\ipykernel_22392\\4212312164.py:1: SettingWithCopyWarning: \n",
      "A value is trying to be set on a copy of a slice from a DataFrame\n",
      "\n",
      "See the caveats in the documentation: https://pandas.pydata.org/pandas-docs/stable/user_guide/indexing.html#returning-a-view-versus-a-copy\n",
      "  df_plant.replace(-9999, np.nan, inplace=True)\n"
     ]
    }
   ],
   "source": [
    "df_plant.replace(-9999, np.nan, inplace=True)"
   ]
  },
  {
   "cell_type": "code",
   "execution_count": 98,
   "id": "c3323cff-0bca-4ab7-911d-215479e2e567",
   "metadata": {},
   "outputs": [
    {
     "data": {
      "text/plain": [
       "GPSpoint             0\n",
       "Plot_no              0\n",
       "Rep                  0\n",
       "Plant_ht_134        30\n",
       "Plant_wh_134        30\n",
       "Plant_ht_141        30\n",
       "Plant_wh_141        30\n",
       "Plant_ht_149        30\n",
       "Plant_wh_149        30\n",
       "Plant_ht_156        30\n",
       "Plant_wh_156        30\n",
       "Plant_ht_162        30\n",
       "Plant_wh_162        30\n",
       "Plant_ht_169        30\n",
       "Plant_wh_169        30\n",
       "Plant_ht_176        30\n",
       "Plant_wh_176        30\n",
       "Plant_ht_184        30\n",
       "Plant_wh_184        30\n",
       "Plant_ht_190        30\n",
       "Plant_wh_190        30\n",
       "Petiole_120         31\n",
       "Petiole_127         30\n",
       "Petiole_136         30\n",
       "Petiole_143         30\n",
       "Petiole_150         30\n",
       "Petiole_157         30\n",
       "Petiole_164         30\n",
       "Petiole_171         30\n",
       "Petiole_178         30\n",
       "Petiole_183         30\n",
       "LeafN_127           30\n",
       "LeafN_136           30\n",
       "LeafN_143           30\n",
       "LeafN_150           30\n",
       "LeafN_157           30\n",
       "LeafN_164           30\n",
       "LeafN_171           30\n",
       "LeafN_178           30\n",
       "LeafN_183           30\n",
       "Stem_ct_197          0\n",
       "Stem_gross_g_197     0\n",
       "Stem_bag_g           0\n",
       "Stem_g_197           0\n",
       "dtype: int64"
      ]
     },
     "execution_count": 98,
     "metadata": {},
     "output_type": "execute_result"
    }
   ],
   "source": [
    "df_plant.isna().sum()"
   ]
  },
  {
   "cell_type": "code",
   "execution_count": 92,
   "id": "f7531f26-d688-4341-ba07-871ec53b34ff",
   "metadata": {},
   "outputs": [
    {
     "name": "stderr",
     "output_type": "stream",
     "text": [
      "C:\\Users\\JARVIS\\AppData\\Local\\Temp\\ipykernel_22392\\1360944602.py:1: SettingWithCopyWarning: \n",
      "A value is trying to be set on a copy of a slice from a DataFrame\n",
      "\n",
      "See the caveats in the documentation: https://pandas.pydata.org/pandas-docs/stable/user_guide/indexing.html#returning-a-view-versus-a-copy\n",
      "  df_plant.dropna(inplace=True)\n"
     ]
    }
   ],
   "source": [
    "df_plant.dropna(inplace=True)"
   ]
  },
  {
   "cell_type": "code",
   "execution_count": 99,
   "id": "f94e0b59-6ede-44ad-b06f-15b735d057b2",
   "metadata": {},
   "outputs": [
    {
     "data": {
      "text/plain": [
       "<Axes: >"
      ]
     },
     "execution_count": 99,
     "metadata": {},
     "output_type": "execute_result"
    },
    {
     "data": {
      "image/png": "[encoded data removed]",
      "text/plain": [
       "<Figure size 640x480 with 2 Axes>"
      ]
     },
     "metadata": {},
     "output_type": "display_data"
    }
   ],
   "source": [
    "sns.heatmap(df_plant.isna())"
   ]
  },
  {
   "cell_type": "code",
   "execution_count": 100,
   "id": "6b80bd86-4359-453b-9025-899bb0c55829",
   "metadata": {},
   "outputs": [
    {
     "name": "stderr",
     "output_type": "stream",
     "text": [
      "C:\\Users\\JARVIS\\AppData\\Local\\Temp\\ipykernel_22392\\1360944602.py:1: SettingWithCopyWarning: \n",
      "A value is trying to be set on a copy of a slice from a DataFrame\n",
      "\n",
      "See the caveats in the documentation: https://pandas.pydata.org/pandas-docs/stable/user_guide/indexing.html#returning-a-view-versus-a-copy\n",
      "  df_plant.dropna(inplace=True)\n"
     ]
    }
   ],
   "source": [
    "df_plant.dropna(inplace=True)"
   ]
  },
  {
   "cell_type": "code",
   "execution_count": 101,
   "id": "e9ad49d2-99f3-4330-936c-f548086f9dd1",
   "metadata": {},
   "outputs": [],
   "source": [
    "df_plant.to_csv('./refined_data/plant_phenotype.csv')"
   ]
  },
  {
   "cell_type": "markdown",
   "id": "196c9f4b-9619-4bfa-b1bb-677b0b990019",
   "metadata": {},
   "source": [
    "## Saving index data"
   ]
  },
  {
   "cell_type": "code",
   "execution_count": 102,
   "id": "052a5a70-6dc9-4bf7-809a-2cd06b457c9b",
   "metadata": {},
   "outputs": [],
   "source": [
    "required_cols = get_columns_that_startswith(['GPS', 'Plot_no','Rep','TargTemp','SBTemp', 'NDVIA','NDVI','NDR','NDV','PRI','CI_','CCCI', 'DATT','CIRE', 'MTCI'])"
   ]
  },
  {
   "cell_type": "code",
   "execution_count": 103,
   "id": "fb2e8d3f-5d61-4fee-baf2-734c387f3be3",
   "metadata": {},
   "outputs": [],
   "source": [
    "df_index = df[required_cols]"
   ]
  },
  {
   "cell_type": "code",
   "execution_count": 104,
   "id": "7462a3d7-5925-417e-ab64-50ce2bd77eb6",
   "metadata": {},
   "outputs": [
    {
     "data": {
      "text/plain": [
       "(62, 471)"
      ]
     },
     "execution_count": 104,
     "metadata": {},
     "output_type": "execute_result"
    }
   ],
   "source": [
    "df_index.shape"
   ]
  },
  {
   "cell_type": "code",
   "execution_count": 105,
   "id": "4eb8e826-4f62-4eef-9e33-13a605fd9d2d",
   "metadata": {},
   "outputs": [
    {
     "data": {
      "text/plain": [
       "GPSpoint          2\n",
       "Plot_no           2\n",
       "Rep               2\n",
       "TargTemp_1_106    2\n",
       "TargTemp_2_106    2\n",
       "                 ..\n",
       "MTCI_R_162        2\n",
       "MTCI_L_169        2\n",
       "MTCI_R_169        2\n",
       "MTCI_L_176        2\n",
       "MTCI_R_176        2\n",
       "Length: 471, dtype: int64"
      ]
     },
     "execution_count": 105,
     "metadata": {},
     "output_type": "execute_result"
    }
   ],
   "source": [
    "df_index.isna().sum()"
   ]
  },
  {
   "cell_type": "code",
   "execution_count": 106,
   "id": "d5508ba0-9f22-4d56-8a79-3afe015cafb1",
   "metadata": {},
   "outputs": [
    {
     "name": "stderr",
     "output_type": "stream",
     "text": [
      "C:\\Users\\JARVIS\\AppData\\Local\\Temp\\ipykernel_22392\\1516162632.py:1: SettingWithCopyWarning: \n",
      "A value is trying to be set on a copy of a slice from a DataFrame\n",
      "\n",
      "See the caveats in the documentation: https://pandas.pydata.org/pandas-docs/stable/user_guide/indexing.html#returning-a-view-versus-a-copy\n",
      "  df_index.dropna(inplace=True)\n"
     ]
    }
   ],
   "source": [
    "df_index.dropna(inplace=True)"
   ]
  },
  {
   "cell_type": "code",
   "execution_count": 109,
   "id": "f137b18f-a1be-47b3-8f55-a6791231eb20",
   "metadata": {},
   "outputs": [
    {
     "name": "stderr",
     "output_type": "stream",
     "text": [
      "C:\\Users\\JARVIS\\AppData\\Local\\Temp\\ipykernel_22392\\2183329678.py:1: SettingWithCopyWarning: \n",
      "A value is trying to be set on a copy of a slice from a DataFrame\n",
      "\n",
      "See the caveats in the documentation: https://pandas.pydata.org/pandas-docs/stable/user_guide/indexing.html#returning-a-view-versus-a-copy\n",
      "  df_index.replace(-9999 , np.nan,inplace=True)\n"
     ]
    }
   ],
   "source": [
    "df_index.replace(-9999 , np.nan,inplace=True)"
   ]
  },
  {
   "cell_type": "code",
   "execution_count": 111,
   "id": "9437a3cf-8e2d-410b-b323-7767bcfbf195",
   "metadata": {},
   "outputs": [
    {
     "data": {
      "text/plain": [
       "GPSpoint          0\n",
       "Plot_no           0\n",
       "Rep               0\n",
       "TargTemp_1_106    0\n",
       "TargTemp_2_106    0\n",
       "                 ..\n",
       "MTCI_R_162        0\n",
       "MTCI_L_169        0\n",
       "MTCI_R_169        0\n",
       "MTCI_L_176        0\n",
       "MTCI_R_176        0\n",
       "Length: 471, dtype: int64"
      ]
     },
     "execution_count": 111,
     "metadata": {},
     "output_type": "execute_result"
    }
   ],
   "source": [
    "df_index.isna().sum()"
   ]
  },
  {
   "cell_type": "code",
   "execution_count": 112,
   "id": "4c144a55-e2ab-4a60-b6c6-d99e86a9ee7a",
   "metadata": {},
   "outputs": [],
   "source": [
    "df_index.to_csv('./refined_data/index_data.csv')"
   ]
  },
  {
   "cell_type": "code",
   "execution_count": null,
   "id": "1a44e6f8-680c-4a8a-add6-f93ec87b658f",
   "metadata": {},
   "outputs": [],
   "source": []
  }
 ],
 "metadata": {
  "kernelspec": {
   "display_name": "Python 3 (ipykernel)",
   "language": "python",
   "name": "python3"
  },
  "language_info": {
   "codemirror_mode": {
    "name": "ipython",
    "version": 3
   },
   "file_extension": ".py",
   "mimetype": "text/x-python",
   "name": "python",
   "nbconvert_exporter": "python",
   "pygments_lexer": "ipython3",
   "version": "3.10.13"
  }
 },
 "nbformat": 4,
 "nbformat_minor": 5
}
